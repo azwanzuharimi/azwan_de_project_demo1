{
 "cells": [
  {
   "cell_type": "code",
   "execution_count": 2,
   "metadata": {},
   "outputs": [],
   "source": [
    "import pandas as pd\n",
    "from datetime import datetime\n",
    "from datetime import timedelta\n"
   ]
  },
  {
   "cell_type": "code",
   "execution_count": 3,
   "metadata": {},
   "outputs": [
    {
     "name": "stdout",
     "output_type": "stream",
     "text": [
      "             date     state  births\n",
      "0      1920-01-01  Malaysia      96\n",
      "1      1920-01-02  Malaysia     115\n",
      "2      1920-01-03  Malaysia     111\n",
      "3      1920-01-04  Malaysia     101\n",
      "4      1920-01-05  Malaysia      95\n",
      "...           ...       ...     ...\n",
      "37828  2023-07-27  Malaysia    1199\n",
      "37829  2023-07-28  Malaysia    1220\n",
      "37830  2023-07-29  Malaysia     927\n",
      "37831  2023-07-30  Malaysia     938\n",
      "37832  2023-07-31  Malaysia    1098\n",
      "\n",
      "[37833 rows x 3 columns]\n"
     ]
    }
   ],
   "source": [
    "# The data source is from Malaysia DOSM (https://data.gov.my/data-catalogue/births)\n",
    "URL_DATA = 'https://storage.data.gov.my/demography/births.parquet'\n",
    "\n",
    "# Extract data from source\n",
    "df = pd.read_parquet(URL_DATA)\n",
    "\n",
    "#print data\n",
    "print(df)"
   ]
  },
  {
   "cell_type": "code",
   "execution_count": 4,
   "metadata": {},
   "outputs": [
    {
     "name": "stdout",
     "output_type": "stream",
     "text": [
      "<class 'pandas.core.frame.DataFrame'>\n",
      "RangeIndex: 37833 entries, 0 to 37832\n",
      "Data columns (total 3 columns):\n",
      " #   Column  Non-Null Count  Dtype \n",
      "---  ------  --------------  ----- \n",
      " 0   date    37833 non-null  object\n",
      " 1   state   37833 non-null  object\n",
      " 2   births  37833 non-null  int64 \n",
      "dtypes: int64(1), object(2)\n",
      "memory usage: 886.8+ KB\n"
     ]
    }
   ],
   "source": [
    "#data information\n",
    "df.info()"
   ]
  },
  {
   "cell_type": "code",
   "execution_count": 5,
   "metadata": {},
   "outputs": [
    {
     "name": "stdout",
     "output_type": "stream",
     "text": [
      "0       1920-01-01\n",
      "1       1920-01-02\n",
      "2       1920-01-03\n",
      "3       1920-01-04\n",
      "4       1920-01-05\n",
      "           ...    \n",
      "37828   2023-07-27\n",
      "37829   2023-07-28\n",
      "37830   2023-07-29\n",
      "37831   2023-07-30\n",
      "37832   2023-07-31\n",
      "Name: date, Length: 37833, dtype: datetime64[ns]\n"
     ]
    }
   ],
   "source": [
    "# Task 1: Based on the lesson learned previously, convert the \"DATE\" column data type into datetime format\n",
    "\n",
    "#convert data type\n",
    "df['date']=pd.to_datetime(df['date'])\n",
    "print(df['date'])\n"
   ]
  },
  {
   "cell_type": "code",
   "execution_count": 6,
   "metadata": {},
   "outputs": [
    {
     "data": {
      "text/html": [
       "<div>\n",
       "<style scoped>\n",
       "    .dataframe tbody tr th:only-of-type {\n",
       "        vertical-align: middle;\n",
       "    }\n",
       "\n",
       "    .dataframe tbody tr th {\n",
       "        vertical-align: top;\n",
       "    }\n",
       "\n",
       "    .dataframe thead th {\n",
       "        text-align: right;\n",
       "    }\n",
       "</style>\n",
       "<table border=\"1\" class=\"dataframe\">\n",
       "  <thead>\n",
       "    <tr style=\"text-align: right;\">\n",
       "      <th></th>\n",
       "      <th>MONTH_NAME</th>\n",
       "      <th>AVG_BIRTH</th>\n",
       "    </tr>\n",
       "  </thead>\n",
       "  <tbody>\n",
       "    <tr>\n",
       "      <th>0</th>\n",
       "      <td>April</td>\n",
       "      <td>945.39</td>\n",
       "    </tr>\n",
       "    <tr>\n",
       "      <th>1</th>\n",
       "      <td>August</td>\n",
       "      <td>951.49</td>\n",
       "    </tr>\n",
       "    <tr>\n",
       "      <th>2</th>\n",
       "      <td>December</td>\n",
       "      <td>951.10</td>\n",
       "    </tr>\n",
       "    <tr>\n",
       "      <th>3</th>\n",
       "      <td>February</td>\n",
       "      <td>904.98</td>\n",
       "    </tr>\n",
       "    <tr>\n",
       "      <th>4</th>\n",
       "      <td>January</td>\n",
       "      <td>928.12</td>\n",
       "    </tr>\n",
       "    <tr>\n",
       "      <th>5</th>\n",
       "      <td>July</td>\n",
       "      <td>946.09</td>\n",
       "    </tr>\n",
       "    <tr>\n",
       "      <th>6</th>\n",
       "      <td>June</td>\n",
       "      <td>960.35</td>\n",
       "    </tr>\n",
       "    <tr>\n",
       "      <th>7</th>\n",
       "      <td>March</td>\n",
       "      <td>926.43</td>\n",
       "    </tr>\n",
       "    <tr>\n",
       "      <th>8</th>\n",
       "      <td>May</td>\n",
       "      <td>959.32</td>\n",
       "    </tr>\n",
       "    <tr>\n",
       "      <th>9</th>\n",
       "      <td>November</td>\n",
       "      <td>963.22</td>\n",
       "    </tr>\n",
       "    <tr>\n",
       "      <th>10</th>\n",
       "      <td>October</td>\n",
       "      <td>985.88</td>\n",
       "    </tr>\n",
       "    <tr>\n",
       "      <th>11</th>\n",
       "      <td>September</td>\n",
       "      <td>981.74</td>\n",
       "    </tr>\n",
       "  </tbody>\n",
       "</table>\n",
       "</div>"
      ],
      "text/plain": [
       "   MONTH_NAME  AVG_BIRTH\n",
       "0       April     945.39\n",
       "1      August     951.49\n",
       "2    December     951.10\n",
       "3    February     904.98\n",
       "4     January     928.12\n",
       "5        July     946.09\n",
       "6        June     960.35\n",
       "7       March     926.43\n",
       "8         May     959.32\n",
       "9    November     963.22\n",
       "10    October     985.88\n",
       "11  September     981.74"
      ]
     },
     "execution_count": 6,
     "metadata": {},
     "output_type": "execute_result"
    }
   ],
   "source": [
    "# Task 2a: Extract the Month name (e.g. January/February/March etc) into another column called \"MONTH_NAME\"\n",
    "# Then get average of births aggregate/group by MONTH_NAME\n",
    "# The expected dataframe is something like this:\n",
    "\n",
    "# |----------------|-----------|\n",
    "# |MONTH_NAME      | AVG_BIRTH |\n",
    "# |----------------|-----------|\n",
    "# |JANUARY XXX     |           |\n",
    "# |FEBRUARY XXX    |           |\n",
    "# |MARCH XXX       |           |\n",
    "#   .....           \n",
    "\n",
    "#add column MONTH_NAME, extract month_name\n",
    "df['MONTH_NAME']=df['date'].dt.month_name()\n",
    "\n",
    "#new df_month groupby by MONTH_NAME and aggregate AVG_BIRTH\n",
    "df_month = df.groupby(['MONTH_NAME'])\\\n",
    "                .agg(\n",
    "                    AVG_BIRTH = ('births', 'mean')\n",
    "                )\\\n",
    "                .reset_index()\n",
    "\n",
    "#round AVG_BIRTH\n",
    "df_month['AVG_BIRTH'] = round(df_month ['AVG_BIRTH'],2)\n",
    "\n",
    "#print df_month\n",
    "df_month"
   ]
  },
  {
   "cell_type": "code",
   "execution_count": 7,
   "metadata": {},
   "outputs": [],
   "source": [
    "# Task 2b: Save the aggregated dataframe in task 2a above into CSV file without index (index=False) in the same folder as this file\n",
    "# The filename shall be your nickname + _avg_birth_by_month.csv\n",
    "# Example: azhar_avg_birth_by_month.csv\n",
    "# No space is allowed. But make sure your nickname is recognizable for evaluation.\n",
    "\n",
    "#export to csv\n",
    "df_month.to_csv('umar_avg_birth_by_month.csv',index=False)"
   ]
  },
  {
   "cell_type": "code",
   "execution_count": 8,
   "metadata": {},
   "outputs": [],
   "source": [
    "# Task 3a: Create a dataframe to calculate average birth by the following generation group:\n",
    "# --> Silent Generation - from 1928 to 1945 included\n",
    "# --> Baby Boomers - from 1946 to 1964 included\n",
    "# --> Gen X - from 1965 to 1980 included\n",
    "# --> Gen Y - from 1981 to 1996 included\n",
    "# The expected dataframe is something like this:\n",
    "\n",
    "# |----------------|-----------|\n",
    "# |GENERATION      | AVG_BIRTH |\n",
    "# |----------------|-----------|\n",
    "# |Gen X           |           |\n",
    "# |Gen Y           |           |\n",
    "# ......\n",
    "\n",
    "# Hint: Use for-loop and if/else\n",
    "\n",
    "\n",
    "#add column year, extract year from date\n",
    "df['year'] = df['date'].dt.year\n",
    "\n",
    "#for loop i as for index, x is for year in df. use enumerate\n",
    "for i, x in enumerate(df['year']):\n",
    "    if (x >= 1928) & (x <= 1945):\n",
    "        df.loc[i, ['GENERATION']] = 'Silent Generation'\n",
    "    elif (x >= 1946) & (x <= 1964):\n",
    "        df.loc[i, ['GENERATION']] = 'Baby Boomers'\n",
    "    elif (x >= 1965) & (x <= 1980):\n",
    "        df.loc[i, ['GENERATION']] = 'Gen X'\n",
    "    elif (x >= 1981) & (x <= 1996):\n",
    "        df.loc[i, ['GENERATION']] = 'Gen Y'\n",
    "    elif (x >= 1996):\n",
    "        df.loc[i, ['GENERATION']] = 'Gen Z'\n",
    "    else:\n",
    "        df.loc[i, ['GENERATION']] = 'Unknown Gen'\n",
    "\n"
   ]
  },
  {
   "cell_type": "code",
   "execution_count": 9,
   "metadata": {},
   "outputs": [
    {
     "name": "stdout",
     "output_type": "stream",
     "text": [
      "            date     state  births MONTH_NAME  year         GENERATION\n",
      "11035 1950-03-19  Malaysia     529      March  1950       Baby Boomers\n",
      "9077  1944-11-07  Malaysia     382   November  1944  Silent Generation\n",
      "17527 1967-12-27  Malaysia     770   December  1967              Gen X\n",
      "2132  1925-11-02  Malaysia     135   November  1925        Unknown Gen\n",
      "7845  1941-06-24  Malaysia     343       June  1941  Silent Generation\n",
      "30832 2004-05-31  Malaysia    1415        May  2004              Gen Z\n",
      "31082 2005-02-05  Malaysia    1208   February  2005              Gen Z\n",
      "27730 1995-12-03  Malaysia    1430   December  1995              Gen Y\n",
      "29293 2000-03-14  Malaysia    1635      March  2000              Gen Z\n",
      "20197 1975-04-19  Malaysia    1000      April  1975              Gen X\n"
     ]
    }
   ],
   "source": [
    "print (df.sample(10))\n"
   ]
  },
  {
   "cell_type": "code",
   "execution_count": 10,
   "metadata": {},
   "outputs": [],
   "source": [
    "# Task 3b: Save the aggregated dataframe in task 3a above into CSV file without index (index=False) in the same folder as this file\n",
    "# The filename shall be your nickname + _avg_birth_by_generation.csv\n",
    "# Example: azhar_avg_birth_by_generation.csv\n",
    "# No space is allowed. But make sure your nickname is recognizable for evaluation.\n",
    "\n",
    "## create df_gen agg\n",
    "df_gen = df.groupby(['GENERATION'])\\\n",
    "                .agg(\n",
    "                    AVG_BIRTH = ('births', 'mean')\n",
    "                )\\\n",
    "                .reset_index()\n",
    "\n",
    "df_gen['AVG_BIRTH'] = round(df_gen['AVG_BIRTH'], 2)"
   ]
  },
  {
   "cell_type": "code",
   "execution_count": 11,
   "metadata": {},
   "outputs": [
    {
     "data": {
      "text/html": [
       "<div>\n",
       "<style scoped>\n",
       "    .dataframe tbody tr th:only-of-type {\n",
       "        vertical-align: middle;\n",
       "    }\n",
       "\n",
       "    .dataframe tbody tr th {\n",
       "        vertical-align: top;\n",
       "    }\n",
       "\n",
       "    .dataframe thead th {\n",
       "        text-align: right;\n",
       "    }\n",
       "</style>\n",
       "<table border=\"1\" class=\"dataframe\">\n",
       "  <thead>\n",
       "    <tr style=\"text-align: right;\">\n",
       "      <th></th>\n",
       "      <th>GENERATION</th>\n",
       "      <th>AVG_BIRTH</th>\n",
       "    </tr>\n",
       "  </thead>\n",
       "  <tbody>\n",
       "    <tr>\n",
       "      <th>0</th>\n",
       "      <td>Baby Boomers</td>\n",
       "      <td>764.40</td>\n",
       "    </tr>\n",
       "    <tr>\n",
       "      <th>1</th>\n",
       "      <td>Gen X</td>\n",
       "      <td>1057.83</td>\n",
       "    </tr>\n",
       "    <tr>\n",
       "      <th>2</th>\n",
       "      <td>Gen Y</td>\n",
       "      <td>1417.43</td>\n",
       "    </tr>\n",
       "    <tr>\n",
       "      <th>3</th>\n",
       "      <td>Gen Z</td>\n",
       "      <td>1407.64</td>\n",
       "    </tr>\n",
       "    <tr>\n",
       "      <th>4</th>\n",
       "      <td>Silent Generation</td>\n",
       "      <td>319.76</td>\n",
       "    </tr>\n",
       "    <tr>\n",
       "      <th>5</th>\n",
       "      <td>Unknown Gen</td>\n",
       "      <td>144.21</td>\n",
       "    </tr>\n",
       "  </tbody>\n",
       "</table>\n",
       "</div>"
      ],
      "text/plain": [
       "          GENERATION  AVG_BIRTH\n",
       "0       Baby Boomers     764.40\n",
       "1              Gen X    1057.83\n",
       "2              Gen Y    1417.43\n",
       "3              Gen Z    1407.64\n",
       "4  Silent Generation     319.76\n",
       "5        Unknown Gen     144.21"
      ]
     },
     "execution_count": 11,
     "metadata": {},
     "output_type": "execute_result"
    }
   ],
   "source": [
    "df_gen"
   ]
  },
  {
   "cell_type": "code",
   "execution_count": 12,
   "metadata": {},
   "outputs": [],
   "source": [
    "## export to csv files\n",
    "df_gen.to_csv('umar_avg_birth_by_generation.csv',index=False)"
   ]
  },
  {
   "cell_type": "code",
   "execution_count": null,
   "metadata": {},
   "outputs": [],
   "source": []
  }
 ],
 "metadata": {
  "kernelspec": {
   "display_name": "python311env",
   "language": "python",
   "name": "python3"
  },
  "language_info": {
   "codemirror_mode": {
    "name": "ipython",
    "version": 3
   },
   "file_extension": ".py",
   "mimetype": "text/x-python",
   "name": "python",
   "nbconvert_exporter": "python",
   "pygments_lexer": "ipython3",
   "version": "3.12.3"
  }
 },
 "nbformat": 4,
 "nbformat_minor": 2
}
