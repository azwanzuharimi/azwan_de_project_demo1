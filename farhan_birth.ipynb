{
 "cells": [
  {
   "cell_type": "code",
   "execution_count": 1,
   "metadata": {},
   "outputs": [],
   "source": [
    "import pandas as pd"
   ]
  },
  {
   "cell_type": "code",
   "execution_count": 4,
   "metadata": {},
   "outputs": [
    {
     "name": "stdout",
     "output_type": "stream",
     "text": [
      "         date     state  births\n",
      "0  1920-01-01  Malaysia      96\n",
      "1  1920-01-02  Malaysia     115\n",
      "2  1920-01-03  Malaysia     111\n",
      "3  1920-01-04  Malaysia     101\n",
      "4  1920-01-05  Malaysia      95\n"
     ]
    }
   ],
   "source": [
    "# The data source is from Malaysia DOSM (https://data.gov.my/data-catalogue/births)\n",
    "URL_DATA = 'https://storage.data.gov.my/demography/births.parquet'\n",
    "\n",
    "# Extract data from source\n",
    "df = pd.read_parquet(URL_DATA)\n",
    "\n",
    "print(df.head())"
   ]
  },
  {
   "cell_type": "code",
   "execution_count": 5,
   "metadata": {},
   "outputs": [
    {
     "name": "stdout",
     "output_type": "stream",
     "text": [
      "<class 'pandas.core.frame.DataFrame'>\n",
      "RangeIndex: 37833 entries, 0 to 37832\n",
      "Data columns (total 3 columns):\n",
      " #   Column  Non-Null Count  Dtype \n",
      "---  ------  --------------  ----- \n",
      " 0   date    37833 non-null  object\n",
      " 1   state   37833 non-null  object\n",
      " 2   births  37833 non-null  int64 \n",
      "dtypes: int64(1), object(2)\n",
      "memory usage: 886.8+ KB\n"
     ]
    }
   ],
   "source": [
    "df.info()"
   ]
  },
  {
   "cell_type": "code",
   "execution_count": 7,
   "metadata": {},
   "outputs": [
    {
     "data": {
      "text/plain": [
       "date      datetime64[ns]\n",
       "state             object\n",
       "births             int64\n",
       "dtype: object"
      ]
     },
     "execution_count": 7,
     "metadata": {},
     "output_type": "execute_result"
    }
   ],
   "source": [
    "# Task 1: Based on the lesson learned previously, convert the \"DATE\" column data type into datetime format\n",
    "df ['date'] = pd.to_datetime(df['date'])\n",
    "\n",
    "df.dtypes"
   ]
  },
  {
   "cell_type": "code",
   "execution_count": 11,
   "metadata": {},
   "outputs": [
    {
     "ename": "KeyError",
     "evalue": "'Column not found: birth'",
     "output_type": "error",
     "traceback": [
      "\u001b[1;31m---------------------------------------------------------------------------\u001b[0m",
      "\u001b[1;31mKeyError\u001b[0m                                  Traceback (most recent call last)",
      "Cell \u001b[1;32mIn[11], line 14\u001b[0m\n\u001b[0;32m      1\u001b[0m \u001b[38;5;66;03m# Task 2a: Extract the Month name (e.g. January/February/March etc) into another column called \"MONTH_NAME\"\u001b[39;00m\n\u001b[0;32m      2\u001b[0m \u001b[38;5;66;03m# Then get average of births aggregate/group by MONTH_NAME\u001b[39;00m\n\u001b[0;32m      3\u001b[0m \u001b[38;5;66;03m# The expected dataframe is something like this:\u001b[39;00m\n\u001b[1;32m   (...)\u001b[0m\n\u001b[0;32m     10\u001b[0m \u001b[38;5;66;03m# |MARCH XXX       |           |\u001b[39;00m\n\u001b[0;32m     11\u001b[0m \u001b[38;5;66;03m#   .....           \u001b[39;00m\n\u001b[0;32m     13\u001b[0m df [\u001b[38;5;124m'\u001b[39m\u001b[38;5;124mMONTH_NAME\u001b[39m\u001b[38;5;124m'\u001b[39m] \u001b[38;5;241m=\u001b[39m df[\u001b[38;5;124m'\u001b[39m\u001b[38;5;124mdate\u001b[39m\u001b[38;5;124m'\u001b[39m]\u001b[38;5;241m.\u001b[39mdt\u001b[38;5;241m.\u001b[39mmonth_name()\n\u001b[1;32m---> 14\u001b[0m df_avgbirth \u001b[38;5;241m=\u001b[39m \u001b[43mdf\u001b[49m\u001b[38;5;241;43m.\u001b[39;49m\u001b[43mgroupby\u001b[49m\u001b[43m(\u001b[49m\u001b[38;5;124;43m'\u001b[39;49m\u001b[38;5;124;43mMONTH_NAME\u001b[39;49m\u001b[38;5;124;43m'\u001b[39;49m\u001b[43m)\u001b[49m\u001b[43m[\u001b[49m\u001b[38;5;124;43m'\u001b[39;49m\u001b[38;5;124;43mbirth\u001b[39;49m\u001b[38;5;124;43m'\u001b[39;49m\u001b[43m]\u001b[49m\u001b[38;5;241m.\u001b[39magg(\u001b[38;5;124m'\u001b[39m\u001b[38;5;124mmean\u001b[39m\u001b[38;5;124m'\u001b[39m)\n",
      "File \u001b[1;32mD:\\PythonPackages\\Python312\\site-packages\\pandas\\core\\groupby\\generic.py:1951\u001b[0m, in \u001b[0;36mDataFrameGroupBy.__getitem__\u001b[1;34m(self, key)\u001b[0m\n\u001b[0;32m   1944\u001b[0m \u001b[38;5;28;01mif\u001b[39;00m \u001b[38;5;28misinstance\u001b[39m(key, \u001b[38;5;28mtuple\u001b[39m) \u001b[38;5;129;01mand\u001b[39;00m \u001b[38;5;28mlen\u001b[39m(key) \u001b[38;5;241m>\u001b[39m \u001b[38;5;241m1\u001b[39m:\n\u001b[0;32m   1945\u001b[0m     \u001b[38;5;66;03m# if len == 1, then it becomes a SeriesGroupBy and this is actually\u001b[39;00m\n\u001b[0;32m   1946\u001b[0m     \u001b[38;5;66;03m# valid syntax, so don't raise\u001b[39;00m\n\u001b[0;32m   1947\u001b[0m     \u001b[38;5;28;01mraise\u001b[39;00m \u001b[38;5;167;01mValueError\u001b[39;00m(\n\u001b[0;32m   1948\u001b[0m         \u001b[38;5;124m\"\u001b[39m\u001b[38;5;124mCannot subset columns with a tuple with more than one element. \u001b[39m\u001b[38;5;124m\"\u001b[39m\n\u001b[0;32m   1949\u001b[0m         \u001b[38;5;124m\"\u001b[39m\u001b[38;5;124mUse a list instead.\u001b[39m\u001b[38;5;124m\"\u001b[39m\n\u001b[0;32m   1950\u001b[0m     )\n\u001b[1;32m-> 1951\u001b[0m \u001b[38;5;28;01mreturn\u001b[39;00m \u001b[38;5;28;43msuper\u001b[39;49m\u001b[43m(\u001b[49m\u001b[43m)\u001b[49m\u001b[38;5;241;43m.\u001b[39;49m\u001b[38;5;21;43m__getitem__\u001b[39;49m\u001b[43m(\u001b[49m\u001b[43mkey\u001b[49m\u001b[43m)\u001b[49m\n",
      "File \u001b[1;32mD:\\PythonPackages\\Python312\\site-packages\\pandas\\core\\base.py:244\u001b[0m, in \u001b[0;36mSelectionMixin.__getitem__\u001b[1;34m(self, key)\u001b[0m\n\u001b[0;32m    242\u001b[0m \u001b[38;5;28;01melse\u001b[39;00m:\n\u001b[0;32m    243\u001b[0m     \u001b[38;5;28;01mif\u001b[39;00m key \u001b[38;5;129;01mnot\u001b[39;00m \u001b[38;5;129;01min\u001b[39;00m \u001b[38;5;28mself\u001b[39m\u001b[38;5;241m.\u001b[39mobj:\n\u001b[1;32m--> 244\u001b[0m         \u001b[38;5;28;01mraise\u001b[39;00m \u001b[38;5;167;01mKeyError\u001b[39;00m(\u001b[38;5;124mf\u001b[39m\u001b[38;5;124m\"\u001b[39m\u001b[38;5;124mColumn not found: \u001b[39m\u001b[38;5;132;01m{\u001b[39;00mkey\u001b[38;5;132;01m}\u001b[39;00m\u001b[38;5;124m\"\u001b[39m)\n\u001b[0;32m    245\u001b[0m     ndim \u001b[38;5;241m=\u001b[39m \u001b[38;5;28mself\u001b[39m\u001b[38;5;241m.\u001b[39mobj[key]\u001b[38;5;241m.\u001b[39mndim\n\u001b[0;32m    246\u001b[0m     \u001b[38;5;28;01mreturn\u001b[39;00m \u001b[38;5;28mself\u001b[39m\u001b[38;5;241m.\u001b[39m_gotitem(key, ndim\u001b[38;5;241m=\u001b[39mndim)\n",
      "\u001b[1;31mKeyError\u001b[0m: 'Column not found: birth'"
     ]
    }
   ],
   "source": [
    "# Task 2a: Extract the Month name (e.g. January/February/March etc) into another column called \"MONTH_NAME\"\n",
    "# Then get average of births aggregate/group by MONTH_NAME\n",
    "# The expected dataframe is something like this:\n",
    "\n",
    "# |----------------|-----------|\n",
    "# |MONTH_NAME      | AVG_BIRTH |\n",
    "# |----------------|-----------|\n",
    "# |JANUARY XXX     |           |\n",
    "# |FEBRUARY XXX    |           |\n",
    "# |MARCH XXX       |           |\n",
    "#   .....           \n",
    "\n",
    "df ['MONTH_NAME'] = df['date'].dt.month_name()\n",
    "df_avgbirth = df.groupby('MONTH_NAME')['birth'].agg('mean')"
   ]
  },
  {
   "cell_type": "code",
   "execution_count": null,
   "metadata": {},
   "outputs": [],
   "source": [
    "# Task 2b: Save the aggregated dataframe in task 2a above into CSV file without index (index=False) in the same folder as this file\n",
    "# The filename shall be your nickname + _avg_birth_by_month.csv\n",
    "# Example: azhar_avg_birth_by_month.csv\n",
    "# No space is allowed. But make sure your nickname is recognizable for evaluation.\n",
    "\n",
    "..."
   ]
  },
  {
   "cell_type": "code",
   "execution_count": 13,
   "metadata": {},
   "outputs": [],
   "source": [
    "# Task 3a: Create a dataframe to calculate average birth by the following generation group:\n",
    "# --> Silent Generation - from 1928 to 1945 included\n",
    "# --> Baby Boomers - from 1946 to 1964 included\n",
    "# --> Gen X - from 1965 to 1980 included\n",
    "# --> Gen Y - from 1981 to 1996 included\n",
    "# The expected dataframe is something like this:\n",
    "\n",
    "# |----------------|-----------|\n",
    "# |GENERATION      | AVG_BIRTH |\n",
    "# |----------------|-----------|\n",
    "# |Gen X           |           |\n",
    "# |Gen Y           |           |\n",
    "# ......\n",
    "\n",
    "# Hint: Use for-loop and if/else\n",
    "\n",
    "..."
   ]
  },
  {
   "cell_type": "code",
   "execution_count": 14,
   "metadata": {},
   "outputs": [],
   "source": [
    "# Task 3b: Save the aggregated dataframe in task 3a above into CSV file without index (index=False) in the same folder as this file\n",
    "# The filename shall be your nickname + _avg_birth_by_generation.csv\n",
    "# Example: azhar_avg_birth_by_generation.csv\n",
    "# No space is allowed. But make sure your nickname is recognizable for evaluation.\n",
    "\n",
    "..."
   ]
  }
 ],
 "metadata": {
  "kernelspec": {
   "display_name": "python311env",
   "language": "python",
   "name": "python3"
  },
  "language_info": {
   "codemirror_mode": {
    "name": "ipython",
    "version": 3
   },
   "file_extension": ".py",
   "mimetype": "text/x-python",
   "name": "python",
   "nbconvert_exporter": "python",
   "pygments_lexer": "ipython3",
   "version": "3.12.3"
  }
 },
 "nbformat": 4,
 "nbformat_minor": 2
}
